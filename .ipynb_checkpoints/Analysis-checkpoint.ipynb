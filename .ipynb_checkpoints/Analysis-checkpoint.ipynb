{
 "cells": [
  {
   "cell_type": "code",
   "execution_count": 2,
   "id": "1172876a-dd48-49b9-871d-a520d8f1a989",
   "metadata": {},
   "outputs": [],
   "source": [
    "import pandas as pd\n",
    "import numpy as np\n",
    "import matplotlib.pyplot as plt\n",
    "import seaborn as sns"
   ]
  },
  {
   "cell_type": "code",
   "execution_count": 3,
   "id": "c5a83ffe-359f-43dd-98a0-026db4f622a1",
   "metadata": {},
   "outputs": [],
   "source": [
    "df=pd.read_csv('netflix.csv')"
   ]
  },
  {
   "cell_type": "code",
   "execution_count": 4,
   "id": "182c2f79-704a-40d1-9fd5-f91c43fe7dbb",
   "metadata": {},
   "outputs": [
    {
     "data": {
      "text/html": [
       "<div>\n",
       "<style scoped>\n",
       "    .dataframe tbody tr th:only-of-type {\n",
       "        vertical-align: middle;\n",
       "    }\n",
       "\n",
       "    .dataframe tbody tr th {\n",
       "        vertical-align: top;\n",
       "    }\n",
       "\n",
       "    .dataframe thead th {\n",
       "        text-align: right;\n",
       "    }\n",
       "</style>\n",
       "<table border=\"1\" class=\"dataframe\">\n",
       "  <thead>\n",
       "    <tr style=\"text-align: right;\">\n",
       "      <th></th>\n",
       "      <th>show_id</th>\n",
       "      <th>type</th>\n",
       "      <th>title</th>\n",
       "      <th>director</th>\n",
       "      <th>cast</th>\n",
       "      <th>country</th>\n",
       "      <th>date_added</th>\n",
       "      <th>release_year</th>\n",
       "      <th>rating</th>\n",
       "      <th>duration</th>\n",
       "      <th>listed_in</th>\n",
       "      <th>description</th>\n",
       "    </tr>\n",
       "  </thead>\n",
       "  <tbody>\n",
       "    <tr>\n",
       "      <th>0</th>\n",
       "      <td>s1</td>\n",
       "      <td>Movie</td>\n",
       "      <td>Dick Johnson Is Dead</td>\n",
       "      <td>Kirsten Johnson</td>\n",
       "      <td>NaN</td>\n",
       "      <td>United States</td>\n",
       "      <td>September 25, 2021</td>\n",
       "      <td>2020</td>\n",
       "      <td>PG-13</td>\n",
       "      <td>90 min</td>\n",
       "      <td>Documentaries</td>\n",
       "      <td>As her father nears the end of his life, filmm...</td>\n",
       "    </tr>\n",
       "    <tr>\n",
       "      <th>1</th>\n",
       "      <td>s2</td>\n",
       "      <td>TV Show</td>\n",
       "      <td>Blood &amp; Water</td>\n",
       "      <td>NaN</td>\n",
       "      <td>Ama Qamata, Khosi Ngema, Gail Mabalane, Thaban...</td>\n",
       "      <td>South Africa</td>\n",
       "      <td>September 24, 2021</td>\n",
       "      <td>2021</td>\n",
       "      <td>TV-MA</td>\n",
       "      <td>2 Seasons</td>\n",
       "      <td>International TV Shows, TV Dramas, TV Mysteries</td>\n",
       "      <td>After crossing paths at a party, a Cape Town t...</td>\n",
       "    </tr>\n",
       "    <tr>\n",
       "      <th>2</th>\n",
       "      <td>s3</td>\n",
       "      <td>TV Show</td>\n",
       "      <td>Ganglands</td>\n",
       "      <td>Julien Leclercq</td>\n",
       "      <td>Sami Bouajila, Tracy Gotoas, Samuel Jouy, Nabi...</td>\n",
       "      <td>NaN</td>\n",
       "      <td>September 24, 2021</td>\n",
       "      <td>2021</td>\n",
       "      <td>TV-MA</td>\n",
       "      <td>1 Season</td>\n",
       "      <td>Crime TV Shows, International TV Shows, TV Act...</td>\n",
       "      <td>To protect his family from a powerful drug lor...</td>\n",
       "    </tr>\n",
       "    <tr>\n",
       "      <th>3</th>\n",
       "      <td>s4</td>\n",
       "      <td>TV Show</td>\n",
       "      <td>Jailbirds New Orleans</td>\n",
       "      <td>NaN</td>\n",
       "      <td>NaN</td>\n",
       "      <td>NaN</td>\n",
       "      <td>September 24, 2021</td>\n",
       "      <td>2021</td>\n",
       "      <td>TV-MA</td>\n",
       "      <td>1 Season</td>\n",
       "      <td>Docuseries, Reality TV</td>\n",
       "      <td>Feuds, flirtations and toilet talk go down amo...</td>\n",
       "    </tr>\n",
       "    <tr>\n",
       "      <th>4</th>\n",
       "      <td>s5</td>\n",
       "      <td>TV Show</td>\n",
       "      <td>Kota Factory</td>\n",
       "      <td>NaN</td>\n",
       "      <td>Mayur More, Jitendra Kumar, Ranjan Raj, Alam K...</td>\n",
       "      <td>India</td>\n",
       "      <td>September 24, 2021</td>\n",
       "      <td>2021</td>\n",
       "      <td>TV-MA</td>\n",
       "      <td>2 Seasons</td>\n",
       "      <td>International TV Shows, Romantic TV Shows, TV ...</td>\n",
       "      <td>In a city of coaching centers known to train I...</td>\n",
       "    </tr>\n",
       "  </tbody>\n",
       "</table>\n",
       "</div>"
      ],
      "text/plain": [
       "  show_id     type                  title         director  \\\n",
       "0      s1    Movie   Dick Johnson Is Dead  Kirsten Johnson   \n",
       "1      s2  TV Show          Blood & Water              NaN   \n",
       "2      s3  TV Show              Ganglands  Julien Leclercq   \n",
       "3      s4  TV Show  Jailbirds New Orleans              NaN   \n",
       "4      s5  TV Show           Kota Factory              NaN   \n",
       "\n",
       "                                                cast        country  \\\n",
       "0                                                NaN  United States   \n",
       "1  Ama Qamata, Khosi Ngema, Gail Mabalane, Thaban...   South Africa   \n",
       "2  Sami Bouajila, Tracy Gotoas, Samuel Jouy, Nabi...            NaN   \n",
       "3                                                NaN            NaN   \n",
       "4  Mayur More, Jitendra Kumar, Ranjan Raj, Alam K...          India   \n",
       "\n",
       "           date_added  release_year rating   duration  \\\n",
       "0  September 25, 2021          2020  PG-13     90 min   \n",
       "1  September 24, 2021          2021  TV-MA  2 Seasons   \n",
       "2  September 24, 2021          2021  TV-MA   1 Season   \n",
       "3  September 24, 2021          2021  TV-MA   1 Season   \n",
       "4  September 24, 2021          2021  TV-MA  2 Seasons   \n",
       "\n",
       "                                           listed_in  \\\n",
       "0                                      Documentaries   \n",
       "1    International TV Shows, TV Dramas, TV Mysteries   \n",
       "2  Crime TV Shows, International TV Shows, TV Act...   \n",
       "3                             Docuseries, Reality TV   \n",
       "4  International TV Shows, Romantic TV Shows, TV ...   \n",
       "\n",
       "                                         description  \n",
       "0  As her father nears the end of his life, filmm...  \n",
       "1  After crossing paths at a party, a Cape Town t...  \n",
       "2  To protect his family from a powerful drug lor...  \n",
       "3  Feuds, flirtations and toilet talk go down amo...  \n",
       "4  In a city of coaching centers known to train I...  "
      ]
     },
     "execution_count": 4,
     "metadata": {},
     "output_type": "execute_result"
    }
   ],
   "source": [
    "df.head()"
   ]
  },
  {
   "cell_type": "code",
   "execution_count": 6,
   "id": "0ffcc315-be33-4191-a061-6ebb9edd2798",
   "metadata": {},
   "outputs": [
    {
     "data": {
      "text/plain": [
       "(8807, 12)"
      ]
     },
     "execution_count": 6,
     "metadata": {},
     "output_type": "execute_result"
    }
   ],
   "source": [
    "df.shape"
   ]
  },
  {
   "cell_type": "code",
   "execution_count": 7,
   "id": "1dd94519-6927-4a1b-a4e2-32aace87fc16",
   "metadata": {},
   "outputs": [
    {
     "data": {
      "text/plain": [
       "Index(['show_id', 'type', 'title', 'director', 'cast', 'country', 'date_added',\n",
       "       'release_year', 'rating', 'duration', 'listed_in', 'description'],\n",
       "      dtype='object')"
      ]
     },
     "execution_count": 7,
     "metadata": {},
     "output_type": "execute_result"
    }
   ],
   "source": [
    "df.columns"
   ]
  },
  {
   "cell_type": "code",
   "execution_count": 10,
   "id": "fe957208-15ef-403d-99db-39d5e97ae965",
   "metadata": {},
   "outputs": [
    {
     "data": {
      "text/plain": [
       "show_id         object\n",
       "type            object\n",
       "title           object\n",
       "director        object\n",
       "cast            object\n",
       "country         object\n",
       "date_added      object\n",
       "release_year     int64\n",
       "rating          object\n",
       "duration        object\n",
       "listed_in       object\n",
       "description     object\n",
       "dtype: object"
      ]
     },
     "execution_count": 10,
     "metadata": {},
     "output_type": "execute_result"
    }
   ],
   "source": [
    "df.dtypes"
   ]
  },
  {
   "cell_type": "code",
   "execution_count": 12,
   "id": "243dbdde-ae7d-4ddc-a657-7b5bd95713c2",
   "metadata": {},
   "outputs": [
    {
     "data": {
      "text/html": [
       "<div>\n",
       "<style scoped>\n",
       "    .dataframe tbody tr th:only-of-type {\n",
       "        vertical-align: middle;\n",
       "    }\n",
       "\n",
       "    .dataframe tbody tr th {\n",
       "        vertical-align: top;\n",
       "    }\n",
       "\n",
       "    .dataframe thead th {\n",
       "        text-align: right;\n",
       "    }\n",
       "</style>\n",
       "<table border=\"1\" class=\"dataframe\">\n",
       "  <thead>\n",
       "    <tr style=\"text-align: right;\">\n",
       "      <th></th>\n",
       "      <th>release_year</th>\n",
       "    </tr>\n",
       "  </thead>\n",
       "  <tbody>\n",
       "    <tr>\n",
       "      <th>count</th>\n",
       "      <td>8807.000000</td>\n",
       "    </tr>\n",
       "    <tr>\n",
       "      <th>mean</th>\n",
       "      <td>2014.180198</td>\n",
       "    </tr>\n",
       "    <tr>\n",
       "      <th>std</th>\n",
       "      <td>8.819312</td>\n",
       "    </tr>\n",
       "    <tr>\n",
       "      <th>min</th>\n",
       "      <td>1925.000000</td>\n",
       "    </tr>\n",
       "    <tr>\n",
       "      <th>25%</th>\n",
       "      <td>2013.000000</td>\n",
       "    </tr>\n",
       "    <tr>\n",
       "      <th>50%</th>\n",
       "      <td>2017.000000</td>\n",
       "    </tr>\n",
       "    <tr>\n",
       "      <th>75%</th>\n",
       "      <td>2019.000000</td>\n",
       "    </tr>\n",
       "    <tr>\n",
       "      <th>max</th>\n",
       "      <td>2021.000000</td>\n",
       "    </tr>\n",
       "  </tbody>\n",
       "</table>\n",
       "</div>"
      ],
      "text/plain": [
       "       release_year\n",
       "count   8807.000000\n",
       "mean    2014.180198\n",
       "std        8.819312\n",
       "min     1925.000000\n",
       "25%     2013.000000\n",
       "50%     2017.000000\n",
       "75%     2019.000000\n",
       "max     2021.000000"
      ]
     },
     "execution_count": 12,
     "metadata": {},
     "output_type": "execute_result"
    }
   ],
   "source": [
    "df.describe()"
   ]
  },
  {
   "cell_type": "markdown",
   "id": "ebbdae81-7026-44bd-b3bb-f6fcf8dc8764",
   "metadata": {},
   "source": [
    "# Task - 1. Is there any Duplicate Record in this dataset ? If yes, then remove the duplicate records."
   ]
  },
  {
   "cell_type": "code",
   "execution_count": 13,
   "id": "ace33651-f277-48d5-a167-c7bc3766e9df",
   "metadata": {},
   "outputs": [
    {
     "data": {
      "text/plain": [
       "0       False\n",
       "1       False\n",
       "2       False\n",
       "3       False\n",
       "4       False\n",
       "        ...  \n",
       "8802    False\n",
       "8803    False\n",
       "8804    False\n",
       "8805    False\n",
       "8806    False\n",
       "Length: 8807, dtype: bool"
      ]
     },
     "execution_count": 13,
     "metadata": {},
     "output_type": "execute_result"
    }
   ],
   "source": [
    "df.duplicated()"
   ]
  },
  {
   "cell_type": "code",
   "execution_count": 14,
   "id": "018abf89-fdd4-4dfa-8eab-a5b10779c105",
   "metadata": {},
   "outputs": [
    {
     "data": {
      "text/html": [
       "<div>\n",
       "<style scoped>\n",
       "    .dataframe tbody tr th:only-of-type {\n",
       "        vertical-align: middle;\n",
       "    }\n",
       "\n",
       "    .dataframe tbody tr th {\n",
       "        vertical-align: top;\n",
       "    }\n",
       "\n",
       "    .dataframe thead th {\n",
       "        text-align: right;\n",
       "    }\n",
       "</style>\n",
       "<table border=\"1\" class=\"dataframe\">\n",
       "  <thead>\n",
       "    <tr style=\"text-align: right;\">\n",
       "      <th></th>\n",
       "      <th>show_id</th>\n",
       "      <th>type</th>\n",
       "      <th>title</th>\n",
       "      <th>director</th>\n",
       "      <th>cast</th>\n",
       "      <th>country</th>\n",
       "      <th>date_added</th>\n",
       "      <th>release_year</th>\n",
       "      <th>rating</th>\n",
       "      <th>duration</th>\n",
       "      <th>listed_in</th>\n",
       "      <th>description</th>\n",
       "    </tr>\n",
       "  </thead>\n",
       "  <tbody>\n",
       "  </tbody>\n",
       "</table>\n",
       "</div>"
      ],
      "text/plain": [
       "Empty DataFrame\n",
       "Columns: [show_id, type, title, director, cast, country, date_added, release_year, rating, duration, listed_in, description]\n",
       "Index: []"
      ]
     },
     "execution_count": 14,
     "metadata": {},
     "output_type": "execute_result"
    }
   ],
   "source": [
    "df[df.duplicated()]"
   ]
  },
  {
   "cell_type": "code",
   "execution_count": 18,
   "id": "359974f7-1153-4d3e-a461-f32fe36fffe7",
   "metadata": {},
   "outputs": [],
   "source": [
    "df.drop_duplicates(inplace=True)"
   ]
  },
  {
   "cell_type": "code",
   "execution_count": 19,
   "id": "20fa2d9d-9142-4170-931d-98330f1220b3",
   "metadata": {},
   "outputs": [
    {
     "data": {
      "text/plain": [
       "(8807, 12)"
      ]
     },
     "execution_count": 19,
     "metadata": {},
     "output_type": "execute_result"
    }
   ],
   "source": [
    "df.shape"
   ]
  },
  {
   "cell_type": "markdown",
   "id": "08fecd23-7d2b-43be-b55f-cdfe053bed20",
   "metadata": {},
   "source": [
    "### Observation : No Duplicate Values Present in Dataset"
   ]
  },
  {
   "cell_type": "markdown",
   "id": "b0bb111c-77ec-4331-8f03-ca3c0e2f6c97",
   "metadata": {},
   "source": [
    "# Task - 2. Is there any Null Value present in any column ? Show with Heat-map."
   ]
  },
  {
   "cell_type": "code",
   "execution_count": 21,
   "id": "c1b1c9c8-1eb0-4b07-89cd-0baca6d153b5",
   "metadata": {},
   "outputs": [
    {
     "data": {
      "text/plain": [
       "show_id            0\n",
       "type               0\n",
       "title              0\n",
       "director        2634\n",
       "cast             825\n",
       "country          831\n",
       "date_added        10\n",
       "release_year       0\n",
       "rating             4\n",
       "duration           3\n",
       "listed_in          0\n",
       "description        0\n",
       "dtype: int64"
      ]
     },
     "execution_count": 21,
     "metadata": {},
     "output_type": "execute_result"
    }
   ],
   "source": [
    "df.isnull().sum()"
   ]
  },
  {
   "cell_type": "code",
   "execution_count": 22,
   "id": "9526a598-8162-4e5c-9d4e-e0ea93ba4eb9",
   "metadata": {},
   "outputs": [
    {
     "data": {
      "text/plain": [
       "<Axes: >"
      ]
     },
     "execution_count": 22,
     "metadata": {},
     "output_type": "execute_result"
    },
    {
     "data": {
      "image/png": "[encoded data removed]",
      "text/plain": [
       "<Figure size 640x480 with 2 Axes>"
      ]
     },
     "metadata": {},
     "output_type": "display_data"
    }
   ],
   "source": [
    "sns.heatmap(df.isnull())"
   ]
  },
  {
   "cell_type": "code",
   "execution_count": null,
   "id": "607b48b8-5ac2-4582-a328-7de778f5c98c",
   "metadata": {},
   "outputs": [],
   "source": []
  },
  {
   "cell_type": "markdown",
   "id": "17f98eac-b42c-4394-97ee-4f7e1cd18290",
   "metadata": {},
   "source": [
    "### Q. 1) For 'House of Cards', what is the Show Id and Who is the Director of this show ?"
   ]
  },
  {
   "cell_type": "code",
   "execution_count": 102,
   "id": "fea88ab6-e66b-4731-bfc7-80a0cb7b7d56",
   "metadata": {},
   "outputs": [
    {
     "data": {
      "text/html": [
       "<div>\n",
       "<style scoped>\n",
       "    .dataframe tbody tr th:only-of-type {\n",
       "        vertical-align: middle;\n",
       "    }\n",
       "\n",
       "    .dataframe tbody tr th {\n",
       "        vertical-align: top;\n",
       "    }\n",
       "\n",
       "    .dataframe thead th {\n",
       "        text-align: right;\n",
       "    }\n",
       "</style>\n",
       "<table border=\"1\" class=\"dataframe\">\n",
       "  <thead>\n",
       "    <tr style=\"text-align: right;\">\n",
       "      <th></th>\n",
       "      <th>show_id</th>\n",
       "      <th>type</th>\n",
       "      <th>title</th>\n",
       "      <th>director</th>\n",
       "      <th>cast</th>\n",
       "      <th>country</th>\n",
       "      <th>date_added</th>\n",
       "      <th>release_year</th>\n",
       "      <th>rating</th>\n",
       "      <th>duration</th>\n",
       "      <th>listed_in</th>\n",
       "      <th>description</th>\n",
       "      <th>minutes</th>\n",
       "      <th>unit</th>\n",
       "    </tr>\n",
       "  </thead>\n",
       "  <tbody>\n",
       "    <tr>\n",
       "      <th>1059</th>\n",
       "      <td>s1060</td>\n",
       "      <td>TV Show</td>\n",
       "      <td>House of Cards</td>\n",
       "      <td>NaN</td>\n",
       "      <td>Kevin Spacey, Robin Wright, Kate Mara, Corey S...</td>\n",
       "      <td>United States</td>\n",
       "      <td>April 14, 2021</td>\n",
       "      <td>2018</td>\n",
       "      <td>TV-MA</td>\n",
       "      <td>6 Seasons</td>\n",
       "      <td>TV Dramas, TV Thrillers</td>\n",
       "      <td>A ruthless politician will stop at nothing to ...</td>\n",
       "      <td>6.0</td>\n",
       "      <td>Seasons</td>\n",
       "    </tr>\n",
       "  </tbody>\n",
       "</table>\n",
       "</div>"
      ],
      "text/plain": [
       "     show_id     type           title director  \\\n",
       "1059   s1060  TV Show  House of Cards      NaN   \n",
       "\n",
       "                                                   cast        country  \\\n",
       "1059  Kevin Spacey, Robin Wright, Kate Mara, Corey S...  United States   \n",
       "\n",
       "          date_added  release_year rating   duration                listed_in  \\\n",
       "1059  April 14, 2021          2018  TV-MA  6 Seasons  TV Dramas, TV Thrillers   \n",
       "\n",
       "                                            description  minutes     unit  \n",
       "1059  A ruthless politician will stop at nothing to ...      6.0  Seasons  "
      ]
     },
     "execution_count": 102,
     "metadata": {},
     "output_type": "execute_result"
    }
   ],
   "source": [
    "df[df['title']=='House of Cards']"
   ]
  },
  {
   "cell_type": "code",
   "execution_count": null,
   "id": "19ad302d-28cc-4695-b2ba-1c31231946ed",
   "metadata": {},
   "outputs": [],
   "source": []
  },
  {
   "cell_type": "markdown",
   "id": "f71e4c85-aad6-4ed9-b402-d23fd316f26c",
   "metadata": {},
   "source": [
    "### Q. 2) In which year the highest number of the TV Shows & Movies were released ? Show with Bar Graph."
   ]
  },
  {
   "cell_type": "code",
   "execution_count": 40,
   "id": "f3fece29-d5b9-461d-83da-fdae08b2ddcd",
   "metadata": {},
   "outputs": [
    {
     "data": {
      "text/plain": [
       "Index(['show_id', 'type', 'title', 'director', 'cast', 'country', 'date_added',\n",
       "       'release_year', 'rating', 'duration', 'listed_in', 'description'],\n",
       "      dtype='object')"
      ]
     },
     "execution_count": 40,
     "metadata": {},
     "output_type": "execute_result"
    }
   ],
   "source": [
    "df.columns"
   ]
  },
  {
   "cell_type": "code",
   "execution_count": 50,
   "id": "d24e9f26-672a-4a10-a625-26ab265a5e2f",
   "metadata": {},
   "outputs": [
    {
     "data": {
      "text/plain": [
       "release_year\n",
       "2018    1147\n",
       "2017    1032\n",
       "2019    1030\n",
       "2020     953\n",
       "2016     902\n",
       "        ... \n",
       "1959       1\n",
       "1925       1\n",
       "1961       1\n",
       "1947       1\n",
       "1966       1\n",
       "Name: count, Length: 74, dtype: int64"
      ]
     },
     "execution_count": 50,
     "metadata": {},
     "output_type": "execute_result"
    }
   ],
   "source": [
    "df['release_year'].value_counts()"
   ]
  },
  {
   "cell_type": "code",
   "execution_count": 54,
   "id": "44a60410-6470-46da-9039-9ad3b161d63b",
   "metadata": {},
   "outputs": [
    {
     "data": {
      "text/plain": [
       "<Axes: xlabel='release_year'>"
      ]
     },
     "execution_count": 54,
     "metadata": {},
     "output_type": "execute_result"
    },
    {
     "data": {
      "image/png": "[encoded data removed]",
      "text/plain": [
       "<Figure size 640x480 with 1 Axes>"
      ]
     },
     "metadata": {},
     "output_type": "display_data"
    }
   ],
   "source": [
    "df['release_year'].value_counts().plot(kind='bar')"
   ]
  },
  {
   "cell_type": "code",
   "execution_count": null,
   "id": "04d11d18-ccec-41da-9513-1cb8e57c2a19",
   "metadata": {},
   "outputs": [],
   "source": []
  },
  {
   "cell_type": "markdown",
   "id": "d4197f1d-58c8-4b0f-ac79-9f69841c7041",
   "metadata": {},
   "source": [
    "### Q. 3) How many Movies & TV Shows are in the dataset ? Show with Bar Graph."
   ]
  },
  {
   "cell_type": "code",
   "execution_count": 60,
   "id": "b189d33b-efed-48d6-a564-930b33908cd5",
   "metadata": {},
   "outputs": [
    {
     "data": {
      "text/plain": [
       "type\n",
       "Movie      6131\n",
       "TV Show    2676\n",
       "Name: count, dtype: int64"
      ]
     },
     "execution_count": 60,
     "metadata": {},
     "output_type": "execute_result"
    }
   ],
   "source": [
    "df['type'].value_counts()"
   ]
  },
  {
   "cell_type": "code",
   "execution_count": 61,
   "id": "56142e09-7ff7-4716-9ab9-3c6ac67986ec",
   "metadata": {},
   "outputs": [
    {
     "data": {
      "text/plain": [
       "<Axes: xlabel='type'>"
      ]
     },
     "execution_count": 61,
     "metadata": {},
     "output_type": "execute_result"
    },
    {
     "data": {
      "image/png": "[encoded data removed]",
      "text/plain": [
       "<Figure size 640x480 with 1 Axes>"
      ]
     },
     "metadata": {},
     "output_type": "display_data"
    }
   ],
   "source": [
    "df['type'].value_counts().plot(kind='bar')"
   ]
  },
  {
   "cell_type": "code",
   "execution_count": null,
   "id": "cf75c3c8-c273-49a4-bcb2-20730bcca371",
   "metadata": {},
   "outputs": [],
   "source": []
  },
  {
   "cell_type": "markdown",
   "id": "cf2c2833-b2c6-48f0-bcda-5c2bf64206ee",
   "metadata": {},
   "source": [
    "### Q. 4) Show all the Movies that were released in year 2000."
   ]
  },
  {
   "cell_type": "code",
   "execution_count": 70,
   "id": "47c404c6-9027-4f23-a539-f4b3d1c790a9",
   "metadata": {},
   "outputs": [
    {
     "data": {
      "text/plain": [
       "180                    The Nutty Professor II: The Klumps\n",
       "350                                         Space Cowboys\n",
       "359                          The Original Kings of Comedy\n",
       "566                                      Charlie's Angels\n",
       "593                                              Snow Day\n",
       "779                                     Battlefield Earth\n",
       "952                                  The Whole Nine Yards\n",
       "3472                          Rugrats in Paris: The Movie\n",
       "4545               Monty Python: Before the Flying Circus\n",
       "4723                                                 Fiza\n",
       "4956                          Phir Bhi Dil Hai Hindustani\n",
       "5953                               Joseph: King of Dreams\n",
       "6006                                              28 Days\n",
       "6147                                      American Psycho\n",
       "6154    An American Tail: The Treasures of Manhattan I...\n",
       "6311                                         Billy Elliot\n",
       "6437                                         Center Stage\n",
       "6440                                       Chal Mere Bhai\n",
       "6543                       Crouching Tiger, Hidden Dragon\n",
       "6643                         Dragonheart: A New Beginning\n",
       "6753                                    Final Destination\n",
       "6912                            Hamara Dil Aapke Paas Hai\n",
       "7013                       How the Grinch Stole Christmas\n",
       "7247                                            Kya Kehna\n",
       "7316                                         Little Nicky\n",
       "7702                                       Papa the Great\n",
       "7801                                                Pukar\n",
       "7955                                          Scary Movie\n",
       "7962                                             Scream 3\n",
       "8196                                       The Art of War\n",
       "8305                   The Flintstones in Viva Rock Vegas\n",
       "8722                                    What Lies Beneath\n",
       "8729                                   Where the Money Is\n",
       "Name: title, dtype: object"
      ]
     },
     "execution_count": 70,
     "metadata": {},
     "output_type": "execute_result"
    }
   ],
   "source": [
    "df[  (df['type']=='Movie')  &  (df['release_year']==2000)  ]['title']"
   ]
  },
  {
   "cell_type": "code",
   "execution_count": null,
   "id": "7ebb39ca-c98c-4bcd-ae20-8cfcf442aa7d",
   "metadata": {},
   "outputs": [],
   "source": []
  },
  {
   "cell_type": "markdown",
   "id": "90a0349f-5e38-490f-8261-3e8879dde19d",
   "metadata": {},
   "source": [
    "### Q. 5) Show only the Titles of all TV Shows that were released in India only."
   ]
  },
  {
   "cell_type": "code",
   "execution_count": 77,
   "id": "e68f337e-6a24-42c1-93d6-290de406c035",
   "metadata": {},
   "outputs": [
    {
     "data": {
      "text/plain": [
       "4                             Kota Factory\n",
       "39                            Chhota Bheem\n",
       "50                           Dharmakshetra\n",
       "66           Raja Rasoi Aur Anya Kahaniyan\n",
       "69          Stories by Rabindranath Tagore\n",
       "                       ...                \n",
       "8173                             Thackeray\n",
       "8235                           The Calling\n",
       "8321    The Golden Years with Javed Akhtar\n",
       "8349                The House That Made Me\n",
       "8775                       Yeh Meri Family\n",
       "Name: title, Length: 79, dtype: object"
      ]
     },
     "execution_count": 77,
     "metadata": {},
     "output_type": "execute_result"
    }
   ],
   "source": [
    "df[  (df['country']=='India')  & (df['type']=='TV Show')  ]['title']"
   ]
  },
  {
   "cell_type": "code",
   "execution_count": null,
   "id": "8b19a11e-a4ff-4f98-8670-2baaf8f8cc38",
   "metadata": {},
   "outputs": [],
   "source": []
  },
  {
   "cell_type": "code",
   "execution_count": 18,
   "id": "8aeb8271-bd5a-4fbf-9504-3e772323a1e2",
   "metadata": {},
   "outputs": [],
   "source": [
    "import pandas as pd\n",
    "df=pd.read_csv('netflix.csv')"
   ]
  },
  {
   "cell_type": "code",
   "execution_count": null,
   "id": "71389a7d-afb9-4161-a52c-021e31841b31",
   "metadata": {},
   "outputs": [],
   "source": []
  },
  {
   "cell_type": "markdown",
   "id": "72fc8101-e275-494c-88a6-141f5787038c",
   "metadata": {},
   "source": [
    "### Q. 6) Show Top 10 Directors, who gave the highest number of TV Shows & Movies to Netflix ?"
   ]
  },
  {
   "cell_type": "code",
   "execution_count": 17,
   "id": "27a389d8-b471-4295-8765-ba3eda63a9ff",
   "metadata": {},
   "outputs": [
    {
     "data": {
      "text/plain": [
       "director\n",
       "Rajiv Chilaka             19\n",
       "Raúl Campos, Jan Suter    18\n",
       "Marcus Raboy              16\n",
       "Suhas Kadav               16\n",
       "Jay Karas                 14\n",
       "Cathy Garcia-Molina       13\n",
       "Martin Scorsese           12\n",
       "Youssef Chahine           12\n",
       "Jay Chapman               12\n",
       "Steven Spielberg          11\n",
       "Name: count, dtype: int64"
      ]
     },
     "execution_count": 17,
     "metadata": {},
     "output_type": "execute_result"
    }
   ],
   "source": [
    "df['director'].value_counts().head(10)"
   ]
  },
  {
   "cell_type": "code",
   "execution_count": null,
   "id": "0d317dba-004b-4160-b99c-b8573e67cd2d",
   "metadata": {},
   "outputs": [],
   "source": []
  },
  {
   "cell_type": "markdown",
   "id": "05ad7dd6-f51f-4e1e-9372-3f8ec61ccf40",
   "metadata": {},
   "source": [
    "### Q. 7) Show all the Records, where \"Category is Movie and Type is Comedies\" or \"Country is United Kingdom\"."
   ]
  },
  {
   "cell_type": "code",
   "execution_count": 24,
   "id": "88670836-c144-4c8d-a768-152eb2f4a8df",
   "metadata": {},
   "outputs": [
    {
     "data": {
      "text/html": [
       "<div>\n",
       "<style scoped>\n",
       "    .dataframe tbody tr th:only-of-type {\n",
       "        vertical-align: middle;\n",
       "    }\n",
       "\n",
       "    .dataframe tbody tr th {\n",
       "        vertical-align: top;\n",
       "    }\n",
       "\n",
       "    .dataframe thead th {\n",
       "        text-align: right;\n",
       "    }\n",
       "</style>\n",
       "<table border=\"1\" class=\"dataframe\">\n",
       "  <thead>\n",
       "    <tr style=\"text-align: right;\">\n",
       "      <th></th>\n",
       "      <th>show_id</th>\n",
       "      <th>type</th>\n",
       "      <th>title</th>\n",
       "      <th>director</th>\n",
       "      <th>cast</th>\n",
       "      <th>country</th>\n",
       "      <th>date_added</th>\n",
       "      <th>release_year</th>\n",
       "      <th>rating</th>\n",
       "      <th>duration</th>\n",
       "      <th>listed_in</th>\n",
       "      <th>description</th>\n",
       "    </tr>\n",
       "  </thead>\n",
       "  <tbody>\n",
       "    <tr>\n",
       "      <th>8</th>\n",
       "      <td>s9</td>\n",
       "      <td>TV Show</td>\n",
       "      <td>The Great British Baking Show</td>\n",
       "      <td>Andy Devonshire</td>\n",
       "      <td>Mel Giedroyc, Sue Perkins, Mary Berry, Paul Ho...</td>\n",
       "      <td>United Kingdom</td>\n",
       "      <td>September 24, 2021</td>\n",
       "      <td>2021</td>\n",
       "      <td>TV-14</td>\n",
       "      <td>9 Seasons</td>\n",
       "      <td>British TV Shows, Reality TV</td>\n",
       "      <td>A talented batch of amateur bakers face off in...</td>\n",
       "    </tr>\n",
       "    <tr>\n",
       "      <th>27</th>\n",
       "      <td>s28</td>\n",
       "      <td>Movie</td>\n",
       "      <td>Grown Ups</td>\n",
       "      <td>Dennis Dugan</td>\n",
       "      <td>Adam Sandler, Kevin James, Chris Rock, David S...</td>\n",
       "      <td>United States</td>\n",
       "      <td>September 20, 2021</td>\n",
       "      <td>2010</td>\n",
       "      <td>PG-13</td>\n",
       "      <td>103 min</td>\n",
       "      <td>Comedies</td>\n",
       "      <td>Mourning the loss of their beloved junior high...</td>\n",
       "    </tr>\n",
       "    <tr>\n",
       "      <th>32</th>\n",
       "      <td>s33</td>\n",
       "      <td>TV Show</td>\n",
       "      <td>Sex Education</td>\n",
       "      <td>NaN</td>\n",
       "      <td>Asa Butterfield, Gillian Anderson, Ncuti Gatwa...</td>\n",
       "      <td>United Kingdom</td>\n",
       "      <td>September 17, 2021</td>\n",
       "      <td>2020</td>\n",
       "      <td>TV-MA</td>\n",
       "      <td>3 Seasons</td>\n",
       "      <td>British TV Shows, International TV Shows, TV C...</td>\n",
       "      <td>Insecure Otis has all the answers when it come...</td>\n",
       "    </tr>\n",
       "    <tr>\n",
       "      <th>65</th>\n",
       "      <td>s66</td>\n",
       "      <td>TV Show</td>\n",
       "      <td>Numberblocks</td>\n",
       "      <td>NaN</td>\n",
       "      <td>Beth Chalmers, David Holt, Marcel McCalla, Ter...</td>\n",
       "      <td>United Kingdom</td>\n",
       "      <td>September 15, 2021</td>\n",
       "      <td>2021</td>\n",
       "      <td>TV-Y</td>\n",
       "      <td>6 Seasons</td>\n",
       "      <td>Kids' TV</td>\n",
       "      <td>In a place called Numberland, math adds up to ...</td>\n",
       "    </tr>\n",
       "    <tr>\n",
       "      <th>72</th>\n",
       "      <td>s73</td>\n",
       "      <td>TV Show</td>\n",
       "      <td>Jack Whitehall: Travels with My Father</td>\n",
       "      <td>NaN</td>\n",
       "      <td>Jack Whitehall, Michael Whitehall</td>\n",
       "      <td>United Kingdom</td>\n",
       "      <td>September 14, 2021</td>\n",
       "      <td>2021</td>\n",
       "      <td>TV-MA</td>\n",
       "      <td>5 Seasons</td>\n",
       "      <td>British TV Shows, Docuseries, International TV...</td>\n",
       "      <td>Jovial comic Jack Whitehall invites his stuffy...</td>\n",
       "    </tr>\n",
       "    <tr>\n",
       "      <th>...</th>\n",
       "      <td>...</td>\n",
       "      <td>...</td>\n",
       "      <td>...</td>\n",
       "      <td>...</td>\n",
       "      <td>...</td>\n",
       "      <td>...</td>\n",
       "      <td>...</td>\n",
       "      <td>...</td>\n",
       "      <td>...</td>\n",
       "      <td>...</td>\n",
       "      <td>...</td>\n",
       "      <td>...</td>\n",
       "    </tr>\n",
       "    <tr>\n",
       "      <th>8740</th>\n",
       "      <td>s8741</td>\n",
       "      <td>TV Show</td>\n",
       "      <td>Wild Alaska</td>\n",
       "      <td>NaN</td>\n",
       "      <td>Dougray Scott</td>\n",
       "      <td>United Kingdom</td>\n",
       "      <td>March 31, 2017</td>\n",
       "      <td>2015</td>\n",
       "      <td>TV-PG</td>\n",
       "      <td>1 Season</td>\n",
       "      <td>British TV Shows, Docuseries, Science &amp; Nature TV</td>\n",
       "      <td>The natural bounty of Alaska sustains its dive...</td>\n",
       "    </tr>\n",
       "    <tr>\n",
       "      <th>8741</th>\n",
       "      <td>s8742</td>\n",
       "      <td>TV Show</td>\n",
       "      <td>Wild Arabia</td>\n",
       "      <td>NaN</td>\n",
       "      <td>Alexander Siddig</td>\n",
       "      <td>United Kingdom</td>\n",
       "      <td>March 31, 2017</td>\n",
       "      <td>2013</td>\n",
       "      <td>TV-PG</td>\n",
       "      <td>1 Season</td>\n",
       "      <td>British TV Shows, Docuseries, Science &amp; Nature TV</td>\n",
       "      <td>The widely varied geology and dramatic landsca...</td>\n",
       "    </tr>\n",
       "    <tr>\n",
       "      <th>8744</th>\n",
       "      <td>s8745</td>\n",
       "      <td>Movie</td>\n",
       "      <td>Williams</td>\n",
       "      <td>Morgan Matthews</td>\n",
       "      <td>NaN</td>\n",
       "      <td>United Kingdom</td>\n",
       "      <td>November 4, 2017</td>\n",
       "      <td>2017</td>\n",
       "      <td>TV-MA</td>\n",
       "      <td>105 min</td>\n",
       "      <td>Documentaries, International Movies, Sports Mo...</td>\n",
       "      <td>This inspiring documentary charts the birth of...</td>\n",
       "    </tr>\n",
       "    <tr>\n",
       "      <th>8758</th>\n",
       "      <td>s8759</td>\n",
       "      <td>TV Show</td>\n",
       "      <td>World's Busiest Cities</td>\n",
       "      <td>NaN</td>\n",
       "      <td>Anita Rani, Ade Adepitan, Dan Snow</td>\n",
       "      <td>United Kingdom</td>\n",
       "      <td>February 1, 2019</td>\n",
       "      <td>2017</td>\n",
       "      <td>TV-PG</td>\n",
       "      <td>1 Season</td>\n",
       "      <td>British TV Shows, Docuseries</td>\n",
       "      <td>From Moscow to Mexico City, three BBC journali...</td>\n",
       "    </tr>\n",
       "    <tr>\n",
       "      <th>8786</th>\n",
       "      <td>s8787</td>\n",
       "      <td>Movie</td>\n",
       "      <td>You Can Tutu</td>\n",
       "      <td>James Brown</td>\n",
       "      <td>Lily O'Regan, Jeannettsy Enriquez Borges, Joel...</td>\n",
       "      <td>United Kingdom</td>\n",
       "      <td>December 31, 2017</td>\n",
       "      <td>2017</td>\n",
       "      <td>TV-G</td>\n",
       "      <td>87 min</td>\n",
       "      <td>Children &amp; Family Movies</td>\n",
       "      <td>A gifted young ballet dancer struggles to find...</td>\n",
       "    </tr>\n",
       "  </tbody>\n",
       "</table>\n",
       "<p>521 rows × 12 columns</p>\n",
       "</div>"
      ],
      "text/plain": [
       "     show_id     type                                   title  \\\n",
       "8         s9  TV Show           The Great British Baking Show   \n",
       "27       s28    Movie                               Grown Ups   \n",
       "32       s33  TV Show                           Sex Education   \n",
       "65       s66  TV Show                            Numberblocks   \n",
       "72       s73  TV Show  Jack Whitehall: Travels with My Father   \n",
       "...      ...      ...                                     ...   \n",
       "8740   s8741  TV Show                             Wild Alaska   \n",
       "8741   s8742  TV Show                             Wild Arabia   \n",
       "8744   s8745    Movie                                Williams   \n",
       "8758   s8759  TV Show                  World's Busiest Cities   \n",
       "8786   s8787    Movie                            You Can Tutu   \n",
       "\n",
       "             director                                               cast  \\\n",
       "8     Andy Devonshire  Mel Giedroyc, Sue Perkins, Mary Berry, Paul Ho...   \n",
       "27       Dennis Dugan  Adam Sandler, Kevin James, Chris Rock, David S...   \n",
       "32                NaN  Asa Butterfield, Gillian Anderson, Ncuti Gatwa...   \n",
       "65                NaN  Beth Chalmers, David Holt, Marcel McCalla, Ter...   \n",
       "72                NaN                  Jack Whitehall, Michael Whitehall   \n",
       "...               ...                                                ...   \n",
       "8740              NaN                                      Dougray Scott   \n",
       "8741              NaN                                   Alexander Siddig   \n",
       "8744  Morgan Matthews                                                NaN   \n",
       "8758              NaN                 Anita Rani, Ade Adepitan, Dan Snow   \n",
       "8786      James Brown  Lily O'Regan, Jeannettsy Enriquez Borges, Joel...   \n",
       "\n",
       "             country          date_added  release_year rating   duration  \\\n",
       "8     United Kingdom  September 24, 2021          2021  TV-14  9 Seasons   \n",
       "27     United States  September 20, 2021          2010  PG-13    103 min   \n",
       "32    United Kingdom  September 17, 2021          2020  TV-MA  3 Seasons   \n",
       "65    United Kingdom  September 15, 2021          2021   TV-Y  6 Seasons   \n",
       "72    United Kingdom  September 14, 2021          2021  TV-MA  5 Seasons   \n",
       "...              ...                 ...           ...    ...        ...   \n",
       "8740  United Kingdom      March 31, 2017          2015  TV-PG   1 Season   \n",
       "8741  United Kingdom      March 31, 2017          2013  TV-PG   1 Season   \n",
       "8744  United Kingdom    November 4, 2017          2017  TV-MA    105 min   \n",
       "8758  United Kingdom    February 1, 2019          2017  TV-PG   1 Season   \n",
       "8786  United Kingdom   December 31, 2017          2017   TV-G     87 min   \n",
       "\n",
       "                                              listed_in  \\\n",
       "8                          British TV Shows, Reality TV   \n",
       "27                                             Comedies   \n",
       "32    British TV Shows, International TV Shows, TV C...   \n",
       "65                                             Kids' TV   \n",
       "72    British TV Shows, Docuseries, International TV...   \n",
       "...                                                 ...   \n",
       "8740  British TV Shows, Docuseries, Science & Nature TV   \n",
       "8741  British TV Shows, Docuseries, Science & Nature TV   \n",
       "8744  Documentaries, International Movies, Sports Mo...   \n",
       "8758                       British TV Shows, Docuseries   \n",
       "8786                           Children & Family Movies   \n",
       "\n",
       "                                            description  \n",
       "8     A talented batch of amateur bakers face off in...  \n",
       "27    Mourning the loss of their beloved junior high...  \n",
       "32    Insecure Otis has all the answers when it come...  \n",
       "65    In a place called Numberland, math adds up to ...  \n",
       "72    Jovial comic Jack Whitehall invites his stuffy...  \n",
       "...                                                 ...  \n",
       "8740  The natural bounty of Alaska sustains its dive...  \n",
       "8741  The widely varied geology and dramatic landsca...  \n",
       "8744  This inspiring documentary charts the birth of...  \n",
       "8758  From Moscow to Mexico City, three BBC journali...  \n",
       "8786  A gifted young ballet dancer struggles to find...  \n",
       "\n",
       "[521 rows x 12 columns]"
      ]
     },
     "execution_count": 24,
     "metadata": {},
     "output_type": "execute_result"
    }
   ],
   "source": [
    "df[(df['type']=='Movie') & (df['listed_in']=='Comedies') | (df['country']=='United Kingdom')]"
   ]
  },
  {
   "cell_type": "code",
   "execution_count": null,
   "id": "a0eaed07-807d-4cbc-b0f4-5703a2f63d07",
   "metadata": {},
   "outputs": [],
   "source": []
  },
  {
   "cell_type": "markdown",
   "id": "5190ba29-e8ef-49e4-9b2d-0585574918c7",
   "metadata": {},
   "source": [
    "### Q. 8) In how many movies/shows, Tom Cruise was cast ?"
   ]
  },
  {
   "cell_type": "code",
   "execution_count": 36,
   "id": "86726eb2-eecd-40d7-9a98-efe7eba0f748",
   "metadata": {},
   "outputs": [
    {
     "data": {
      "text/plain": [
       "2"
      ]
     },
     "execution_count": 36,
     "metadata": {},
     "output_type": "execute_result"
    }
   ],
   "source": [
    "df_new=df.dropna()\n",
    "df_new[df_new['cast'].str.contains('Tom Cruise')]['title'].value_counts().sum()"
   ]
  },
  {
   "cell_type": "code",
   "execution_count": null,
   "id": "bec13029-32ca-4e70-a336-84ba046064d1",
   "metadata": {},
   "outputs": [],
   "source": []
  },
  {
   "cell_type": "markdown",
   "id": "3f4a6b05-8d5d-41f8-b603-954e5a4d63fd",
   "metadata": {},
   "source": [
    "### Q. 9) What are the different Ratings defined by Netflix ?"
   ]
  },
  {
   "cell_type": "code",
   "execution_count": 39,
   "id": "ecb61062-1ede-4dcf-bb21-cd7ab0007ab0",
   "metadata": {},
   "outputs": [
    {
     "data": {
      "text/plain": [
       "array(['PG-13', 'TV-MA', 'PG', 'TV-14', 'TV-PG', 'TV-Y', 'TV-Y7', 'R',\n",
       "       'TV-G', 'G', 'NC-17', '74 min', '84 min', '66 min', 'NR', nan,\n",
       "       'TV-Y7-FV', 'UR'], dtype=object)"
      ]
     },
     "execution_count": 39,
     "metadata": {},
     "output_type": "execute_result"
    }
   ],
   "source": [
    "df['rating'].unique()\n",
    "#df['rating'].nunique()"
   ]
  },
  {
   "cell_type": "markdown",
   "id": "efa762fe-cfc5-4690-ac5f-42637f6e093a",
   "metadata": {},
   "source": [
    "#### Q. 9.1) How many Movies got the 'TV-14' rating, in Canada ?"
   ]
  },
  {
   "cell_type": "code",
   "execution_count": 50,
   "id": "6704937b-13ab-4be5-815b-c5d5191ca769",
   "metadata": {},
   "outputs": [
    {
     "data": {
      "text/plain": [
       "13"
      ]
     },
     "execution_count": 50,
     "metadata": {},
     "output_type": "execute_result"
    }
   ],
   "source": [
    "df[(df['type']=='Movie') & (df['rating']=='TV-14') & (df['country']=='Canada')].shape[0]"
   ]
  },
  {
   "cell_type": "markdown",
   "id": "d475d717-000c-4ac1-9b0e-a58cf6194cb3",
   "metadata": {},
   "source": [
    "#### Q. 9.2) How many TV Shows got the 'TV-MA' rating, after year 2018 ?"
   ]
  },
  {
   "cell_type": "code",
   "execution_count": 63,
   "id": "6edb47ee-e140-4e30-8bda-cb6a7edb5838",
   "metadata": {},
   "outputs": [
    {
     "data": {
      "text/plain": [
       "623"
      ]
     },
     "execution_count": 63,
     "metadata": {},
     "output_type": "execute_result"
    }
   ],
   "source": [
    "df[(df['type']=='TV Show') & (df['rating']=='TV-MA') & (df['release_year']>2018)].shape[0]"
   ]
  },
  {
   "cell_type": "code",
   "execution_count": null,
   "id": "f17dbe85-4b46-4154-8c00-1dc648d97f45",
   "metadata": {},
   "outputs": [],
   "source": []
  },
  {
   "cell_type": "markdown",
   "id": "613bc98d-f999-43a3-b919-139e8be6a5ab",
   "metadata": {},
   "source": [
    "### Q. 10) What is the maximum duration of a Movie/Show on Netflix ?"
   ]
  },
  {
   "cell_type": "code",
   "execution_count": 85,
   "id": "6d30ed59-72ca-4181-91bd-49bc9a1c5bc2",
   "metadata": {},
   "outputs": [
    {
     "data": {
      "text/html": [
       "<div>\n",
       "<style scoped>\n",
       "    .dataframe tbody tr th:only-of-type {\n",
       "        vertical-align: middle;\n",
       "    }\n",
       "\n",
       "    .dataframe tbody tr th {\n",
       "        vertical-align: top;\n",
       "    }\n",
       "\n",
       "    .dataframe thead th {\n",
       "        text-align: right;\n",
       "    }\n",
       "</style>\n",
       "<table border=\"1\" class=\"dataframe\">\n",
       "  <thead>\n",
       "    <tr style=\"text-align: right;\">\n",
       "      <th></th>\n",
       "      <th>show_id</th>\n",
       "      <th>type</th>\n",
       "      <th>title</th>\n",
       "      <th>director</th>\n",
       "      <th>cast</th>\n",
       "      <th>country</th>\n",
       "      <th>date_added</th>\n",
       "      <th>release_year</th>\n",
       "      <th>rating</th>\n",
       "      <th>duration</th>\n",
       "      <th>listed_in</th>\n",
       "      <th>description</th>\n",
       "      <th>minutes</th>\n",
       "      <th>unit</th>\n",
       "    </tr>\n",
       "  </thead>\n",
       "  <tbody>\n",
       "    <tr>\n",
       "      <th>0</th>\n",
       "      <td>s1</td>\n",
       "      <td>Movie</td>\n",
       "      <td>Dick Johnson Is Dead</td>\n",
       "      <td>Kirsten Johnson</td>\n",
       "      <td>NaN</td>\n",
       "      <td>United States</td>\n",
       "      <td>September 25, 2021</td>\n",
       "      <td>2020</td>\n",
       "      <td>PG-13</td>\n",
       "      <td>90 min</td>\n",
       "      <td>Documentaries</td>\n",
       "      <td>As her father nears the end of his life, filmm...</td>\n",
       "      <td>90</td>\n",
       "      <td>min</td>\n",
       "    </tr>\n",
       "    <tr>\n",
       "      <th>1</th>\n",
       "      <td>s2</td>\n",
       "      <td>TV Show</td>\n",
       "      <td>Blood &amp; Water</td>\n",
       "      <td>NaN</td>\n",
       "      <td>Ama Qamata, Khosi Ngema, Gail Mabalane, Thaban...</td>\n",
       "      <td>South Africa</td>\n",
       "      <td>September 24, 2021</td>\n",
       "      <td>2021</td>\n",
       "      <td>TV-MA</td>\n",
       "      <td>2 Seasons</td>\n",
       "      <td>International TV Shows, TV Dramas, TV Mysteries</td>\n",
       "      <td>After crossing paths at a party, a Cape Town t...</td>\n",
       "      <td>2</td>\n",
       "      <td>Seasons</td>\n",
       "    </tr>\n",
       "    <tr>\n",
       "      <th>2</th>\n",
       "      <td>s3</td>\n",
       "      <td>TV Show</td>\n",
       "      <td>Ganglands</td>\n",
       "      <td>Julien Leclercq</td>\n",
       "      <td>Sami Bouajila, Tracy Gotoas, Samuel Jouy, Nabi...</td>\n",
       "      <td>NaN</td>\n",
       "      <td>September 24, 2021</td>\n",
       "      <td>2021</td>\n",
       "      <td>TV-MA</td>\n",
       "      <td>1 Season</td>\n",
       "      <td>Crime TV Shows, International TV Shows, TV Act...</td>\n",
       "      <td>To protect his family from a powerful drug lor...</td>\n",
       "      <td>1</td>\n",
       "      <td>Season</td>\n",
       "    </tr>\n",
       "    <tr>\n",
       "      <th>3</th>\n",
       "      <td>s4</td>\n",
       "      <td>TV Show</td>\n",
       "      <td>Jailbirds New Orleans</td>\n",
       "      <td>NaN</td>\n",
       "      <td>NaN</td>\n",
       "      <td>NaN</td>\n",
       "      <td>September 24, 2021</td>\n",
       "      <td>2021</td>\n",
       "      <td>TV-MA</td>\n",
       "      <td>1 Season</td>\n",
       "      <td>Docuseries, Reality TV</td>\n",
       "      <td>Feuds, flirtations and toilet talk go down amo...</td>\n",
       "      <td>1</td>\n",
       "      <td>Season</td>\n",
       "    </tr>\n",
       "    <tr>\n",
       "      <th>4</th>\n",
       "      <td>s5</td>\n",
       "      <td>TV Show</td>\n",
       "      <td>Kota Factory</td>\n",
       "      <td>NaN</td>\n",
       "      <td>Mayur More, Jitendra Kumar, Ranjan Raj, Alam K...</td>\n",
       "      <td>India</td>\n",
       "      <td>September 24, 2021</td>\n",
       "      <td>2021</td>\n",
       "      <td>TV-MA</td>\n",
       "      <td>2 Seasons</td>\n",
       "      <td>International TV Shows, Romantic TV Shows, TV ...</td>\n",
       "      <td>In a city of coaching centers known to train I...</td>\n",
       "      <td>2</td>\n",
       "      <td>Seasons</td>\n",
       "    </tr>\n",
       "  </tbody>\n",
       "</table>\n",
       "</div>"
      ],
      "text/plain": [
       "  show_id     type                  title         director  \\\n",
       "0      s1    Movie   Dick Johnson Is Dead  Kirsten Johnson   \n",
       "1      s2  TV Show          Blood & Water              NaN   \n",
       "2      s3  TV Show              Ganglands  Julien Leclercq   \n",
       "3      s4  TV Show  Jailbirds New Orleans              NaN   \n",
       "4      s5  TV Show           Kota Factory              NaN   \n",
       "\n",
       "                                                cast        country  \\\n",
       "0                                                NaN  United States   \n",
       "1  Ama Qamata, Khosi Ngema, Gail Mabalane, Thaban...   South Africa   \n",
       "2  Sami Bouajila, Tracy Gotoas, Samuel Jouy, Nabi...            NaN   \n",
       "3                                                NaN            NaN   \n",
       "4  Mayur More, Jitendra Kumar, Ranjan Raj, Alam K...          India   \n",
       "\n",
       "           date_added  release_year rating   duration  \\\n",
       "0  September 25, 2021          2020  PG-13     90 min   \n",
       "1  September 24, 2021          2021  TV-MA  2 Seasons   \n",
       "2  September 24, 2021          2021  TV-MA   1 Season   \n",
       "3  September 24, 2021          2021  TV-MA   1 Season   \n",
       "4  September 24, 2021          2021  TV-MA  2 Seasons   \n",
       "\n",
       "                                           listed_in  \\\n",
       "0                                      Documentaries   \n",
       "1    International TV Shows, TV Dramas, TV Mysteries   \n",
       "2  Crime TV Shows, International TV Shows, TV Act...   \n",
       "3                             Docuseries, Reality TV   \n",
       "4  International TV Shows, Romantic TV Shows, TV ...   \n",
       "\n",
       "                                         description minutes     unit  \n",
       "0  As her father nears the end of his life, filmm...      90      min  \n",
       "1  After crossing paths at a party, a Cape Town t...       2  Seasons  \n",
       "2  To protect his family from a powerful drug lor...       1   Season  \n",
       "3  Feuds, flirtations and toilet talk go down amo...       1   Season  \n",
       "4  In a city of coaching centers known to train I...       2  Seasons  "
      ]
     },
     "execution_count": 85,
     "metadata": {},
     "output_type": "execute_result"
    }
   ],
   "source": [
    "#df['duration'].unique()\n",
    "#df['duration'].dtypes\n",
    "df[['minutes', 'unit']]=df['duration'].str.split(' ', expand=True)\n",
    "df.head()"
   ]
  },
  {
   "cell_type": "code",
   "execution_count": 88,
   "id": "9c40bb99-3cb6-4f5b-a455-b5621e5fe9b1",
   "metadata": {},
   "outputs": [
    {
     "data": {
      "text/plain": [
       "312.0"
      ]
     },
     "execution_count": 88,
     "metadata": {},
     "output_type": "execute_result"
    }
   ],
   "source": [
    "df['minutes'] = pd.to_numeric(df['minutes'])\n",
    "df['minutes'].max()"
   ]
  },
  {
   "cell_type": "code",
   "execution_count": null,
   "id": "fc214ba5-6bda-47d9-86d4-b75a78a8684b",
   "metadata": {},
   "outputs": [],
   "source": []
  },
  {
   "cell_type": "markdown",
   "id": "ffc9a004-6530-4356-b39c-f1c51eb9818a",
   "metadata": {},
   "source": [
    "### Q. 11) Which individual country has the Highest No. of TV Shows ?"
   ]
  },
  {
   "cell_type": "code",
   "execution_count": 94,
   "id": "52e8103f-d27d-44d4-9226-5bfd096778de",
   "metadata": {},
   "outputs": [
    {
     "data": {
      "text/plain": [
       "country\n",
       "United States    760\n",
       "Name: count, dtype: int64"
      ]
     },
     "execution_count": 94,
     "metadata": {},
     "output_type": "execute_result"
    }
   ],
   "source": [
    "df[df['type']=='TV Show']['country'].value_counts().head(1)"
   ]
  },
  {
   "cell_type": "code",
   "execution_count": null,
   "id": "2d016299-8348-4816-8022-da1800a45c74",
   "metadata": {},
   "outputs": [],
   "source": []
  },
  {
   "cell_type": "markdown",
   "id": "e78666c5-cdb7-4fac-8b80-517a288e4def",
   "metadata": {},
   "source": [
    "### Q. 12) How can we sort the dataset by Year ?"
   ]
  },
  {
   "cell_type": "code",
   "execution_count": 98,
   "id": "10a2237d-cedf-4c54-b3aa-b41a5b8a0fd2",
   "metadata": {},
   "outputs": [
    {
     "data": {
      "text/html": [
       "<div>\n",
       "<style scoped>\n",
       "    .dataframe tbody tr th:only-of-type {\n",
       "        vertical-align: middle;\n",
       "    }\n",
       "\n",
       "    .dataframe tbody tr th {\n",
       "        vertical-align: top;\n",
       "    }\n",
       "\n",
       "    .dataframe thead th {\n",
       "        text-align: right;\n",
       "    }\n",
       "</style>\n",
       "<table border=\"1\" class=\"dataframe\">\n",
       "  <thead>\n",
       "    <tr style=\"text-align: right;\">\n",
       "      <th></th>\n",
       "      <th>show_id</th>\n",
       "      <th>type</th>\n",
       "      <th>title</th>\n",
       "      <th>director</th>\n",
       "      <th>cast</th>\n",
       "      <th>country</th>\n",
       "      <th>date_added</th>\n",
       "      <th>release_year</th>\n",
       "      <th>rating</th>\n",
       "      <th>duration</th>\n",
       "      <th>listed_in</th>\n",
       "      <th>description</th>\n",
       "      <th>minutes</th>\n",
       "      <th>unit</th>\n",
       "    </tr>\n",
       "  </thead>\n",
       "  <tbody>\n",
       "    <tr>\n",
       "      <th>693</th>\n",
       "      <td>s694</td>\n",
       "      <td>Movie</td>\n",
       "      <td>Ali &amp; Ratu Ratu Queens</td>\n",
       "      <td>Lucky Kuswandi</td>\n",
       "      <td>Iqbaal Ramadhan, Nirina Zubir, Asri Welas, Tik...</td>\n",
       "      <td>NaN</td>\n",
       "      <td>June 17, 2021</td>\n",
       "      <td>2021</td>\n",
       "      <td>TV-14</td>\n",
       "      <td>101 min</td>\n",
       "      <td>Comedies, Dramas, International Movies</td>\n",
       "      <td>After his father's passing, a teenager sets ou...</td>\n",
       "      <td>101.0</td>\n",
       "      <td>min</td>\n",
       "    </tr>\n",
       "    <tr>\n",
       "      <th>781</th>\n",
       "      <td>s782</td>\n",
       "      <td>Movie</td>\n",
       "      <td>Black Holes | The Edge of All We Know</td>\n",
       "      <td>Peter Galison</td>\n",
       "      <td>NaN</td>\n",
       "      <td>NaN</td>\n",
       "      <td>June 2, 2021</td>\n",
       "      <td>2021</td>\n",
       "      <td>TV-14</td>\n",
       "      <td>99 min</td>\n",
       "      <td>Documentaries</td>\n",
       "      <td>Follow scientists on their quest to understand...</td>\n",
       "      <td>99.0</td>\n",
       "      <td>min</td>\n",
       "    </tr>\n",
       "    <tr>\n",
       "      <th>762</th>\n",
       "      <td>s763</td>\n",
       "      <td>Movie</td>\n",
       "      <td>Sweet &amp; Sour</td>\n",
       "      <td>Lee Kae-byeok</td>\n",
       "      <td>Jang Ki-yong, Chae Soo-bin, Jung Soo-jung</td>\n",
       "      <td>South Korea</td>\n",
       "      <td>June 4, 2021</td>\n",
       "      <td>2021</td>\n",
       "      <td>TV-14</td>\n",
       "      <td>103 min</td>\n",
       "      <td>Comedies, International Movies, Romantic Movies</td>\n",
       "      <td>Faced with real-world opportunities and challe...</td>\n",
       "      <td>103.0</td>\n",
       "      <td>min</td>\n",
       "    </tr>\n",
       "    <tr>\n",
       "      <th>763</th>\n",
       "      <td>s764</td>\n",
       "      <td>TV Show</td>\n",
       "      <td>Sweet Tooth</td>\n",
       "      <td>NaN</td>\n",
       "      <td>Nonso Anozie, Christian Convery, Adeel Akhtar,...</td>\n",
       "      <td>United States</td>\n",
       "      <td>June 4, 2021</td>\n",
       "      <td>2021</td>\n",
       "      <td>TV-14</td>\n",
       "      <td>1 Season</td>\n",
       "      <td>TV Action &amp; Adventure, TV Dramas, TV Sci-Fi &amp; ...</td>\n",
       "      <td>On a perilous adventure across a post-apocalyp...</td>\n",
       "      <td>1.0</td>\n",
       "      <td>Season</td>\n",
       "    </tr>\n",
       "    <tr>\n",
       "      <th>764</th>\n",
       "      <td>s765</td>\n",
       "      <td>Movie</td>\n",
       "      <td>Trippin' with the Kandasamys</td>\n",
       "      <td>Jayan Moodley</td>\n",
       "      <td>Jailoshini Naidoo, Maeshni Naicker, Madhushan ...</td>\n",
       "      <td>South Africa</td>\n",
       "      <td>June 4, 2021</td>\n",
       "      <td>2021</td>\n",
       "      <td>TV-14</td>\n",
       "      <td>94 min</td>\n",
       "      <td>Comedies, International Movies, Romantic Movies</td>\n",
       "      <td>To rekindle their marriages, best friends-turn...</td>\n",
       "      <td>94.0</td>\n",
       "      <td>min</td>\n",
       "    </tr>\n",
       "    <tr>\n",
       "      <th>...</th>\n",
       "      <td>...</td>\n",
       "      <td>...</td>\n",
       "      <td>...</td>\n",
       "      <td>...</td>\n",
       "      <td>...</td>\n",
       "      <td>...</td>\n",
       "      <td>...</td>\n",
       "      <td>...</td>\n",
       "      <td>...</td>\n",
       "      <td>...</td>\n",
       "      <td>...</td>\n",
       "      <td>...</td>\n",
       "      <td>...</td>\n",
       "      <td>...</td>\n",
       "    </tr>\n",
       "    <tr>\n",
       "      <th>8660</th>\n",
       "      <td>s8661</td>\n",
       "      <td>Movie</td>\n",
       "      <td>Undercover: How to Operate Behind Enemy Lines</td>\n",
       "      <td>John Ford</td>\n",
       "      <td>NaN</td>\n",
       "      <td>United States</td>\n",
       "      <td>March 31, 2017</td>\n",
       "      <td>1943</td>\n",
       "      <td>TV-PG</td>\n",
       "      <td>61 min</td>\n",
       "      <td>Classic Movies, Documentaries</td>\n",
       "      <td>This World War II-era training film dramatizes...</td>\n",
       "      <td>61.0</td>\n",
       "      <td>min</td>\n",
       "    </tr>\n",
       "    <tr>\n",
       "      <th>8763</th>\n",
       "      <td>s8764</td>\n",
       "      <td>Movie</td>\n",
       "      <td>WWII: Report from the Aleutians</td>\n",
       "      <td>John Huston</td>\n",
       "      <td>NaN</td>\n",
       "      <td>United States</td>\n",
       "      <td>March 31, 2017</td>\n",
       "      <td>1943</td>\n",
       "      <td>TV-PG</td>\n",
       "      <td>45 min</td>\n",
       "      <td>Documentaries</td>\n",
       "      <td>Filmmaker John Huston narrates this Oscar-nomi...</td>\n",
       "      <td>45.0</td>\n",
       "      <td>min</td>\n",
       "    </tr>\n",
       "    <tr>\n",
       "      <th>8205</th>\n",
       "      <td>s8206</td>\n",
       "      <td>Movie</td>\n",
       "      <td>The Battle of Midway</td>\n",
       "      <td>John Ford</td>\n",
       "      <td>Henry Fonda, Jane Darwell</td>\n",
       "      <td>United States</td>\n",
       "      <td>March 31, 2017</td>\n",
       "      <td>1942</td>\n",
       "      <td>TV-14</td>\n",
       "      <td>18 min</td>\n",
       "      <td>Classic Movies, Documentaries</td>\n",
       "      <td>Director John Ford captures combat footage of ...</td>\n",
       "      <td>18.0</td>\n",
       "      <td>min</td>\n",
       "    </tr>\n",
       "    <tr>\n",
       "      <th>7790</th>\n",
       "      <td>s7791</td>\n",
       "      <td>Movie</td>\n",
       "      <td>Prelude to War</td>\n",
       "      <td>Frank Capra</td>\n",
       "      <td>NaN</td>\n",
       "      <td>United States</td>\n",
       "      <td>March 31, 2017</td>\n",
       "      <td>1942</td>\n",
       "      <td>TV-14</td>\n",
       "      <td>52 min</td>\n",
       "      <td>Classic Movies, Documentaries</td>\n",
       "      <td>Frank Capra's documentary chronicles the rise ...</td>\n",
       "      <td>52.0</td>\n",
       "      <td>min</td>\n",
       "    </tr>\n",
       "    <tr>\n",
       "      <th>4250</th>\n",
       "      <td>s4251</td>\n",
       "      <td>TV Show</td>\n",
       "      <td>Pioneers: First Women Filmmakers*</td>\n",
       "      <td>NaN</td>\n",
       "      <td>NaN</td>\n",
       "      <td>NaN</td>\n",
       "      <td>December 30, 2018</td>\n",
       "      <td>1925</td>\n",
       "      <td>TV-14</td>\n",
       "      <td>1 Season</td>\n",
       "      <td>TV Shows</td>\n",
       "      <td>This collection restores films from women who ...</td>\n",
       "      <td>1.0</td>\n",
       "      <td>Season</td>\n",
       "    </tr>\n",
       "  </tbody>\n",
       "</table>\n",
       "<p>8807 rows × 14 columns</p>\n",
       "</div>"
      ],
      "text/plain": [
       "     show_id     type                                          title  \\\n",
       "693     s694    Movie                         Ali & Ratu Ratu Queens   \n",
       "781     s782    Movie          Black Holes | The Edge of All We Know   \n",
       "762     s763    Movie                                   Sweet & Sour   \n",
       "763     s764  TV Show                                    Sweet Tooth   \n",
       "764     s765    Movie                   Trippin' with the Kandasamys   \n",
       "...      ...      ...                                            ...   \n",
       "8660   s8661    Movie  Undercover: How to Operate Behind Enemy Lines   \n",
       "8763   s8764    Movie                WWII: Report from the Aleutians   \n",
       "8205   s8206    Movie                           The Battle of Midway   \n",
       "7790   s7791    Movie                                 Prelude to War   \n",
       "4250   s4251  TV Show              Pioneers: First Women Filmmakers*   \n",
       "\n",
       "            director                                               cast  \\\n",
       "693   Lucky Kuswandi  Iqbaal Ramadhan, Nirina Zubir, Asri Welas, Tik...   \n",
       "781    Peter Galison                                                NaN   \n",
       "762    Lee Kae-byeok          Jang Ki-yong, Chae Soo-bin, Jung Soo-jung   \n",
       "763              NaN  Nonso Anozie, Christian Convery, Adeel Akhtar,...   \n",
       "764    Jayan Moodley  Jailoshini Naidoo, Maeshni Naicker, Madhushan ...   \n",
       "...              ...                                                ...   \n",
       "8660       John Ford                                                NaN   \n",
       "8763     John Huston                                                NaN   \n",
       "8205       John Ford                          Henry Fonda, Jane Darwell   \n",
       "7790     Frank Capra                                                NaN   \n",
       "4250             NaN                                                NaN   \n",
       "\n",
       "            country         date_added  release_year rating  duration  \\\n",
       "693             NaN      June 17, 2021          2021  TV-14   101 min   \n",
       "781             NaN       June 2, 2021          2021  TV-14    99 min   \n",
       "762     South Korea       June 4, 2021          2021  TV-14   103 min   \n",
       "763   United States       June 4, 2021          2021  TV-14  1 Season   \n",
       "764    South Africa       June 4, 2021          2021  TV-14    94 min   \n",
       "...             ...                ...           ...    ...       ...   \n",
       "8660  United States     March 31, 2017          1943  TV-PG    61 min   \n",
       "8763  United States     March 31, 2017          1943  TV-PG    45 min   \n",
       "8205  United States     March 31, 2017          1942  TV-14    18 min   \n",
       "7790  United States     March 31, 2017          1942  TV-14    52 min   \n",
       "4250            NaN  December 30, 2018          1925  TV-14  1 Season   \n",
       "\n",
       "                                              listed_in  \\\n",
       "693              Comedies, Dramas, International Movies   \n",
       "781                                       Documentaries   \n",
       "762     Comedies, International Movies, Romantic Movies   \n",
       "763   TV Action & Adventure, TV Dramas, TV Sci-Fi & ...   \n",
       "764     Comedies, International Movies, Romantic Movies   \n",
       "...                                                 ...   \n",
       "8660                      Classic Movies, Documentaries   \n",
       "8763                                      Documentaries   \n",
       "8205                      Classic Movies, Documentaries   \n",
       "7790                      Classic Movies, Documentaries   \n",
       "4250                                           TV Shows   \n",
       "\n",
       "                                            description  minutes    unit  \n",
       "693   After his father's passing, a teenager sets ou...    101.0     min  \n",
       "781   Follow scientists on their quest to understand...     99.0     min  \n",
       "762   Faced with real-world opportunities and challe...    103.0     min  \n",
       "763   On a perilous adventure across a post-apocalyp...      1.0  Season  \n",
       "764   To rekindle their marriages, best friends-turn...     94.0     min  \n",
       "...                                                 ...      ...     ...  \n",
       "8660  This World War II-era training film dramatizes...     61.0     min  \n",
       "8763  Filmmaker John Huston narrates this Oscar-nomi...     45.0     min  \n",
       "8205  Director John Ford captures combat footage of ...     18.0     min  \n",
       "7790  Frank Capra's documentary chronicles the rise ...     52.0     min  \n",
       "4250  This collection restores films from women who ...      1.0  Season  \n",
       "\n",
       "[8807 rows x 14 columns]"
      ]
     },
     "execution_count": 98,
     "metadata": {},
     "output_type": "execute_result"
    }
   ],
   "source": [
    "df.sort_values(by='release_year', ascending=False)"
   ]
  },
  {
   "cell_type": "code",
   "execution_count": null,
   "id": "f615410e-bb5a-49a1-baec-490e361694bf",
   "metadata": {},
   "outputs": [],
   "source": []
  },
  {
   "cell_type": "markdown",
   "id": "9995d751-c3e5-4999-98bb-5ccd14c58911",
   "metadata": {},
   "source": [
    "### Q. 13) Find all the instances where: Category is 'Movie' and Type is 'Dramas' or Category is 'TV Show' & Type is 'Kids' TV' \n"
   ]
  },
  {
   "cell_type": "code",
   "execution_count": 103,
   "id": "ef0c45ea-68f5-4cec-bd0f-f6881ca75fe7",
   "metadata": {},
   "outputs": [
    {
     "data": {
      "text/html": [
       "<div>\n",
       "<style scoped>\n",
       "    .dataframe tbody tr th:only-of-type {\n",
       "        vertical-align: middle;\n",
       "    }\n",
       "\n",
       "    .dataframe tbody tr th {\n",
       "        vertical-align: top;\n",
       "    }\n",
       "\n",
       "    .dataframe thead th {\n",
       "        text-align: right;\n",
       "    }\n",
       "</style>\n",
       "<table border=\"1\" class=\"dataframe\">\n",
       "  <thead>\n",
       "    <tr style=\"text-align: right;\">\n",
       "      <th></th>\n",
       "      <th>show_id</th>\n",
       "      <th>type</th>\n",
       "      <th>title</th>\n",
       "      <th>director</th>\n",
       "      <th>cast</th>\n",
       "      <th>country</th>\n",
       "      <th>date_added</th>\n",
       "      <th>release_year</th>\n",
       "      <th>rating</th>\n",
       "      <th>duration</th>\n",
       "      <th>listed_in</th>\n",
       "      <th>description</th>\n",
       "      <th>minutes</th>\n",
       "      <th>unit</th>\n",
       "    </tr>\n",
       "  </thead>\n",
       "  <tbody>\n",
       "    <tr>\n",
       "      <th>112</th>\n",
       "      <td>s113</td>\n",
       "      <td>Movie</td>\n",
       "      <td>Worth</td>\n",
       "      <td>Sara Colangelo</td>\n",
       "      <td>Michael Keaton, Stanley Tucci, Amy Ryan, Shuno...</td>\n",
       "      <td>NaN</td>\n",
       "      <td>September 3, 2021</td>\n",
       "      <td>2021</td>\n",
       "      <td>PG-13</td>\n",
       "      <td>119 min</td>\n",
       "      <td>Dramas</td>\n",
       "      <td>In the wake of the Sept. 11 attacks, a lawyer ...</td>\n",
       "      <td>119.0</td>\n",
       "      <td>min</td>\n",
       "    </tr>\n",
       "    <tr>\n",
       "      <th>129</th>\n",
       "      <td>s130</td>\n",
       "      <td>Movie</td>\n",
       "      <td>An Unfinished Life</td>\n",
       "      <td>Lasse Hallström</td>\n",
       "      <td>Robert Redford, Jennifer Lopez, Morgan Freeman...</td>\n",
       "      <td>Germany, United States</td>\n",
       "      <td>September 1, 2021</td>\n",
       "      <td>2005</td>\n",
       "      <td>PG-13</td>\n",
       "      <td>108 min</td>\n",
       "      <td>Dramas</td>\n",
       "      <td>A grieving widow and her daughter move in with...</td>\n",
       "      <td>108.0</td>\n",
       "      <td>min</td>\n",
       "    </tr>\n",
       "    <tr>\n",
       "      <th>142</th>\n",
       "      <td>s143</td>\n",
       "      <td>Movie</td>\n",
       "      <td>Freedom Writers</td>\n",
       "      <td>Richard LaGravenese</td>\n",
       "      <td>Hilary Swank, Patrick Dempsey, Scott Glenn, Im...</td>\n",
       "      <td>Germany, United States</td>\n",
       "      <td>September 1, 2021</td>\n",
       "      <td>2007</td>\n",
       "      <td>PG-13</td>\n",
       "      <td>124 min</td>\n",
       "      <td>Dramas</td>\n",
       "      <td>While her at-risk students are reading classic...</td>\n",
       "      <td>124.0</td>\n",
       "      <td>min</td>\n",
       "    </tr>\n",
       "    <tr>\n",
       "      <th>162</th>\n",
       "      <td>s163</td>\n",
       "      <td>Movie</td>\n",
       "      <td>Marshall</td>\n",
       "      <td>Reginald Hudlin</td>\n",
       "      <td>Chadwick Boseman, Josh Gad, Kate Hudson, Sterl...</td>\n",
       "      <td>United States, China, Hong Kong</td>\n",
       "      <td>September 1, 2021</td>\n",
       "      <td>2017</td>\n",
       "      <td>PG-13</td>\n",
       "      <td>118 min</td>\n",
       "      <td>Dramas</td>\n",
       "      <td>This biopic of Thurgood Marshall, the first Bl...</td>\n",
       "      <td>118.0</td>\n",
       "      <td>min</td>\n",
       "    </tr>\n",
       "    <tr>\n",
       "      <th>329</th>\n",
       "      <td>s330</td>\n",
       "      <td>Movie</td>\n",
       "      <td>Catch Me If You Can</td>\n",
       "      <td>Steven Spielberg</td>\n",
       "      <td>Leonardo DiCaprio, Tom Hanks, Christopher Walk...</td>\n",
       "      <td>United States, Canada</td>\n",
       "      <td>August 1, 2021</td>\n",
       "      <td>2002</td>\n",
       "      <td>PG-13</td>\n",
       "      <td>142 min</td>\n",
       "      <td>Dramas</td>\n",
       "      <td>An FBI agent makes it his mission to put cunni...</td>\n",
       "      <td>142.0</td>\n",
       "      <td>min</td>\n",
       "    </tr>\n",
       "    <tr>\n",
       "      <th>...</th>\n",
       "      <td>...</td>\n",
       "      <td>...</td>\n",
       "      <td>...</td>\n",
       "      <td>...</td>\n",
       "      <td>...</td>\n",
       "      <td>...</td>\n",
       "      <td>...</td>\n",
       "      <td>...</td>\n",
       "      <td>...</td>\n",
       "      <td>...</td>\n",
       "      <td>...</td>\n",
       "      <td>...</td>\n",
       "      <td>...</td>\n",
       "      <td>...</td>\n",
       "    </tr>\n",
       "    <tr>\n",
       "      <th>8674</th>\n",
       "      <td>s8675</td>\n",
       "      <td>Movie</td>\n",
       "      <td>Viceroy's House</td>\n",
       "      <td>Gurinder Chadha</td>\n",
       "      <td>Hugh Bonneville, Gillian Anderson, Manish Daya...</td>\n",
       "      <td>United Kingdom, India, Sweden</td>\n",
       "      <td>December 12, 2017</td>\n",
       "      <td>2017</td>\n",
       "      <td>NR</td>\n",
       "      <td>106 min</td>\n",
       "      <td>Dramas</td>\n",
       "      <td>As viceroy Lord Mountbatten arrives in Delhi t...</td>\n",
       "      <td>106.0</td>\n",
       "      <td>min</td>\n",
       "    </tr>\n",
       "    <tr>\n",
       "      <th>8675</th>\n",
       "      <td>s8676</td>\n",
       "      <td>Movie</td>\n",
       "      <td>Victor</td>\n",
       "      <td>Brandon Dickerson</td>\n",
       "      <td>Patrick Davis, Lisa Vidal, Josh Pence, José Zú...</td>\n",
       "      <td>United States</td>\n",
       "      <td>July 24, 2017</td>\n",
       "      <td>2015</td>\n",
       "      <td>PG-13</td>\n",
       "      <td>110 min</td>\n",
       "      <td>Dramas</td>\n",
       "      <td>In 1962 Brooklyn, a Puerto Rican teen who join...</td>\n",
       "      <td>110.0</td>\n",
       "      <td>min</td>\n",
       "    </tr>\n",
       "    <tr>\n",
       "      <th>8685</th>\n",
       "      <td>s8686</td>\n",
       "      <td>Movie</td>\n",
       "      <td>VS.</td>\n",
       "      <td>Ed Lilly</td>\n",
       "      <td>Connor Swindells, Fola Evans-Akingbola, Nichol...</td>\n",
       "      <td>United Kingdom</td>\n",
       "      <td>June 19, 2019</td>\n",
       "      <td>2018</td>\n",
       "      <td>TV-MA</td>\n",
       "      <td>99 min</td>\n",
       "      <td>Dramas</td>\n",
       "      <td>A young man in foster care finds his voice in ...</td>\n",
       "      <td>99.0</td>\n",
       "      <td>min</td>\n",
       "    </tr>\n",
       "    <tr>\n",
       "      <th>8691</th>\n",
       "      <td>s8692</td>\n",
       "      <td>Movie</td>\n",
       "      <td>Wakefield</td>\n",
       "      <td>Robin Swicord</td>\n",
       "      <td>Bryan Cranston, Jennifer Garner, Jason O'Mara,...</td>\n",
       "      <td>United States</td>\n",
       "      <td>March 2, 2019</td>\n",
       "      <td>2016</td>\n",
       "      <td>R</td>\n",
       "      <td>109 min</td>\n",
       "      <td>Dramas</td>\n",
       "      <td>An unhappy father and lawyer quits his suburba...</td>\n",
       "      <td>109.0</td>\n",
       "      <td>min</td>\n",
       "    </tr>\n",
       "    <tr>\n",
       "      <th>8696</th>\n",
       "      <td>s8697</td>\n",
       "      <td>Movie</td>\n",
       "      <td>War Horse</td>\n",
       "      <td>Steven Spielberg</td>\n",
       "      <td>Emily Watson, David Thewlis, Peter Mullan, Nie...</td>\n",
       "      <td>United States, India</td>\n",
       "      <td>May 6, 2019</td>\n",
       "      <td>2011</td>\n",
       "      <td>PG-13</td>\n",
       "      <td>147 min</td>\n",
       "      <td>Dramas</td>\n",
       "      <td>During World War I, the bond between a young E...</td>\n",
       "      <td>147.0</td>\n",
       "      <td>min</td>\n",
       "    </tr>\n",
       "  </tbody>\n",
       "</table>\n",
       "<p>138 rows × 14 columns</p>\n",
       "</div>"
      ],
      "text/plain": [
       "     show_id   type                title             director  \\\n",
       "112     s113  Movie                Worth       Sara Colangelo   \n",
       "129     s130  Movie   An Unfinished Life      Lasse Hallström   \n",
       "142     s143  Movie      Freedom Writers  Richard LaGravenese   \n",
       "162     s163  Movie             Marshall      Reginald Hudlin   \n",
       "329     s330  Movie  Catch Me If You Can     Steven Spielberg   \n",
       "...      ...    ...                  ...                  ...   \n",
       "8674   s8675  Movie      Viceroy's House      Gurinder Chadha   \n",
       "8675   s8676  Movie               Victor    Brandon Dickerson   \n",
       "8685   s8686  Movie                  VS.             Ed Lilly   \n",
       "8691   s8692  Movie            Wakefield        Robin Swicord   \n",
       "8696   s8697  Movie            War Horse     Steven Spielberg   \n",
       "\n",
       "                                                   cast  \\\n",
       "112   Michael Keaton, Stanley Tucci, Amy Ryan, Shuno...   \n",
       "129   Robert Redford, Jennifer Lopez, Morgan Freeman...   \n",
       "142   Hilary Swank, Patrick Dempsey, Scott Glenn, Im...   \n",
       "162   Chadwick Boseman, Josh Gad, Kate Hudson, Sterl...   \n",
       "329   Leonardo DiCaprio, Tom Hanks, Christopher Walk...   \n",
       "...                                                 ...   \n",
       "8674  Hugh Bonneville, Gillian Anderson, Manish Daya...   \n",
       "8675  Patrick Davis, Lisa Vidal, Josh Pence, José Zú...   \n",
       "8685  Connor Swindells, Fola Evans-Akingbola, Nichol...   \n",
       "8691  Bryan Cranston, Jennifer Garner, Jason O'Mara,...   \n",
       "8696  Emily Watson, David Thewlis, Peter Mullan, Nie...   \n",
       "\n",
       "                              country         date_added  release_year rating  \\\n",
       "112                               NaN  September 3, 2021          2021  PG-13   \n",
       "129            Germany, United States  September 1, 2021          2005  PG-13   \n",
       "142            Germany, United States  September 1, 2021          2007  PG-13   \n",
       "162   United States, China, Hong Kong  September 1, 2021          2017  PG-13   \n",
       "329             United States, Canada     August 1, 2021          2002  PG-13   \n",
       "...                               ...                ...           ...    ...   \n",
       "8674    United Kingdom, India, Sweden  December 12, 2017          2017     NR   \n",
       "8675                    United States      July 24, 2017          2015  PG-13   \n",
       "8685                   United Kingdom      June 19, 2019          2018  TV-MA   \n",
       "8691                    United States      March 2, 2019          2016      R   \n",
       "8696             United States, India        May 6, 2019          2011  PG-13   \n",
       "\n",
       "     duration listed_in                                        description  \\\n",
       "112   119 min    Dramas  In the wake of the Sept. 11 attacks, a lawyer ...   \n",
       "129   108 min    Dramas  A grieving widow and her daughter move in with...   \n",
       "142   124 min    Dramas  While her at-risk students are reading classic...   \n",
       "162   118 min    Dramas  This biopic of Thurgood Marshall, the first Bl...   \n",
       "329   142 min    Dramas  An FBI agent makes it his mission to put cunni...   \n",
       "...       ...       ...                                                ...   \n",
       "8674  106 min    Dramas  As viceroy Lord Mountbatten arrives in Delhi t...   \n",
       "8675  110 min    Dramas  In 1962 Brooklyn, a Puerto Rican teen who join...   \n",
       "8685   99 min    Dramas  A young man in foster care finds his voice in ...   \n",
       "8691  109 min    Dramas  An unhappy father and lawyer quits his suburba...   \n",
       "8696  147 min    Dramas  During World War I, the bond between a young E...   \n",
       "\n",
       "      minutes unit  \n",
       "112     119.0  min  \n",
       "129     108.0  min  \n",
       "142     124.0  min  \n",
       "162     118.0  min  \n",
       "329     142.0  min  \n",
       "...       ...  ...  \n",
       "8674    106.0  min  \n",
       "8675    110.0  min  \n",
       "8685     99.0  min  \n",
       "8691    109.0  min  \n",
       "8696    147.0  min  \n",
       "\n",
       "[138 rows x 14 columns]"
      ]
     },
     "execution_count": 103,
     "metadata": {},
     "output_type": "execute_result"
    }
   ],
   "source": [
    "df[   ( (df['type']=='Movie')  &  (df['listed_in']=='Dramas') )  | ((df['type']=='TV Show') & (df['listed_in']=='Kids TV'))       ]"
   ]
  },
  {
   "cell_type": "code",
   "execution_count": null,
   "id": "d8888227-c02b-429a-b61b-1ea189f7785b",
   "metadata": {},
   "outputs": [],
   "source": []
  }
 ],
 "metadata": {
  "kernelspec": {
   "display_name": "Python 3 (ipykernel)",
   "language": "python",
   "name": "python3"
  },
  "language_info": {
   "codemirror_mode": {
    "name": "ipython",
    "version": 3
   },
   "file_extension": ".py",
   "mimetype": "text/x-python",
   "name": "python",
   "nbconvert_exporter": "python",
   "pygments_lexer": "ipython3",
   "version": "3.12.4"
  }
 },
 "nbformat": 4,
 "nbformat_minor": 5
}
